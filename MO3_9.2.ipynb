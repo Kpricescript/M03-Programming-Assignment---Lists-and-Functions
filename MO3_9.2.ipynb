{
 "cells": [
  {
   "cell_type": "code",
   "execution_count": null,
   "id": "cbcccb04",
   "metadata": {},
   "outputs": [],
   "source": [
    "limit = 10\n",
    "get_odds = (num for num in range(limit) if not num 2 == 0)\n",
    "count = 0\n",
    "for num in get_odds:\n",
    "    if count = 2:\n",
    "        print(num)\n",
    "        break\n",
    "    count += 1"
   ]
  }
 ],
 "metadata": {
  "kernelspec": {
   "display_name": "Python 3",
   "language": "python",
   "name": "python3"
  },
  "language_info": {
   "codemirror_mode": {
    "name": "ipython",
    "version": 3
   },
   "file_extension": ".py",
   "mimetype": "text/x-python",
   "name": "python",
   "nbconvert_exporter": "python",
   "pygments_lexer": "ipython3",
   "version": "3.8.8"
  }
 },
 "nbformat": 4,
 "nbformat_minor": 5
}
